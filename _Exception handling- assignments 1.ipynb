{
 "cells": [
  {
   "cell_type": "markdown",
   "id": "e3dd9c71-b062-4476-8158-788dcb6c0c82",
   "metadata": {},
   "source": [
    "Q1. What is an Exeption in python? Write the differene between Exeptions and syntax errors.\n"
   ]
  },
  {
   "cell_type": "markdown",
   "id": "129b7817-2d8d-4ff2-ab75-dcd9ddbb4385",
   "metadata": {},
   "source": [
    "Ans:-In Python, an exception is an event that occurs during the execution of a program and disrupts the normal flow of instructions. When a Python script encounters a situation it cannot cope with, it raises an exception. Exceptions are Python objects that represent errors. They are used to handle various types of errors that can occur during program execution.\n",
    "\n",
    "The difference between exceptions and syntax errors\n",
    "\n",
    "Errors are problems in a program due to which the program will stop the execution. Syntax errors occur when the proper syntax of the language is not followed.\n",
    "\n",
    "Exceptions are raised when some internal events occur which changes the normal flow of the program. Exceptions interrupt execution up the stack until caught. Exceptions can be used to convey an error, but more generally is used to convey that something exceptional has occurred.\n"
   ]
  },
  {
   "cell_type": "markdown",
   "id": "8b1af3ed-8802-49b4-8982-636bc42ce753",
   "metadata": {},
   "source": [
    "Q2. What happens when an exception is not handled? Explain with an example."
   ]
  },
  {
   "cell_type": "markdown",
   "id": "a3bedeee-ee4e-4534-8d7d-53e22e7baf6d",
   "metadata": {},
   "source": [
    "Ans:-If an exception is not handled, the program will throw an error when it encounters the exception, and the rest of the program will not be executed. All exceptions other than Runtime Exceptions are known as Checked exceptions, and if these exceptions are not handled/declared in the program, you will get a compilation error. However, implementing exception handling will give a workaround in which the rest of the program is executed if they are independent with respect to the exception incurred."
   ]
  },
  {
   "cell_type": "code",
   "execution_count": 5,
   "id": "61dbeee7-bab8-42cc-a239-7c3f2102bcf8",
   "metadata": {},
   "outputs": [
    {
     "name": "stdout",
     "output_type": "stream",
     "text": [
      "Error: cannot add an int and a str\n"
     ]
    }
   ],
   "source": [
    "x = 5\n",
    "y = \"hello\"\n",
    "try:\n",
    "\tz = x + y\n",
    "except TypeError:\n",
    "\tprint(\"Error: cannot add an int and a str\")\n"
   ]
  },
  {
   "cell_type": "markdown",
   "id": "d3d248ef-59da-4d22-b490-909301024516",
   "metadata": {},
   "source": [
    "Q3. Which Python statements are used to catch and handle exceptions? Explain with an exmple."
   ]
  },
  {
   "cell_type": "markdown",
   "id": "9c845036-8c85-4fd7-bff7-d48eee99142e",
   "metadata": {},
   "source": [
    "In Python, the try, except, and finally statements are used to catch and handle exceptions. The try block is used to enclose the code that might raise an exception. If an exception occurs within the try block, it is caught by the corresponding except block. The finally block is optional and is executed regardless of whether an exception occurred or not.\n",
    "\n",
    "Example are below."
   ]
  },
  {
   "cell_type": "code",
   "execution_count": null,
   "id": "5425af8c-dfb5-4744-ba6b-749e6195480e",
   "metadata": {},
   "outputs": [],
   "source": [
    "try:\n",
    "    # Code that might raise an exception\n",
    "    x = 10 / 0  # Division by zero raises a ZeroDivisionError\n",
    "except ZeroDivisionError:\n",
    "    # Exception handling code\n",
    "    print(\"Error: Division by zero is not allowed.\")\n",
    "finally:\n",
    "    # Code that will always be executed\n",
    "    print(\"This will be printed regardless of whether an exception occurred or not.\")"
   ]
  },
  {
   "cell_type": "markdown",
   "id": "b0af2b31-4ab6-4ea2-9ec8-61dc8874bc91",
   "metadata": {},
   "source": [
    "Q4. #Explain with an example.\n",
    " #a.try and else\n",
    " #b.finally \n",
    " #c.raise"
   ]
  },
  {
   "cell_type": "markdown",
   "id": "f3de6751-ae0e-4fe9-bf1c-9300a5c6c012",
   "metadata": {},
   "source": [
    "ANS:- TRY\n",
    "When an error occurs, or exception as we call it, Python will normally stop and generate an error message.\n",
    "These exceptions can be handled using the try statement.\n",
    "\n",
    "Example are below."
   ]
  },
  {
   "cell_type": "code",
   "execution_count": 2,
   "id": "83c90c38-b60d-40fe-8c5e-ac4d5f97944a",
   "metadata": {},
   "outputs": [
    {
     "name": "stdout",
     "output_type": "stream",
     "text": [
      "An exception occurred\n"
     ]
    }
   ],
   "source": [
    "try:\n",
    "  print(x)\n",
    "except:\n",
    "  print(\"An exception occurred\")"
   ]
  },
  {
   "cell_type": "markdown",
   "id": "5a13ede6-7223-49aa-9565-6561a149d890",
   "metadata": {},
   "source": [
    "ELSE:-\n",
    "In Python, We will also use the else clause on the try-except block which must be present after all the except clauses. The code enters the else block only if the try clause does not raise an exception.\n",
    "\n",
    "Example are below.\n"
   ]
  },
  {
   "cell_type": "code",
   "execution_count": 3,
   "id": "27ce0cf3-7eb2-4645-95ce-5dd828e113bd",
   "metadata": {},
   "outputs": [
    {
     "name": "stdout",
     "output_type": "stream",
     "text": [
      "Hello\n",
      "Nothing went wrong\n"
     ]
    }
   ],
   "source": [
    "\n",
    "try:\n",
    "  print(\"Hello\")\n",
    "except:\n",
    "  print(\"Something went wrong\")\n",
    "else:\n",
    "  print(\"Nothing went wrong\")"
   ]
  },
  {
   "cell_type": "markdown",
   "id": "4bf10824-79aa-4d4e-abd0-f50ba2d022e0",
   "metadata": {},
   "source": [
    "Finally:-\n",
    "\n",
    "The finally block, if specified, will be executed regardless if the try block raises an error or not.\n",
    "\n",
    "Example are below."
   ]
  },
  {
   "cell_type": "code",
   "execution_count": 4,
   "id": "10ecebc7-7c7c-4615-bd7e-863a491e55e2",
   "metadata": {},
   "outputs": [
    {
     "name": "stdout",
     "output_type": "stream",
     "text": [
      "Something went wrong\n",
      "The 'try except' is finished\n"
     ]
    }
   ],
   "source": [
    "try:\n",
    "  print(x)\n",
    "except:\n",
    "  print(\"Something went wrong\")\n",
    "finally:\n",
    "  print(\"The 'try except' is finished\")\n"
   ]
  },
  {
   "cell_type": "markdown",
   "id": "fa78298f-2ef4-4bd3-bbd1-e2a1ed9ec057",
   "metadata": {},
   "source": [
    "Raise:-\n",
    "\n",
    "As a Python developer we  can choose to throw an exception if a condition occurs.\n",
    "To throw (or raise) an exception, use the raise keyword.\n",
    "\n",
    "Example are below.\n"
   ]
  },
  {
   "cell_type": "code",
   "execution_count": 5,
   "id": "3b2a5c92-a59b-4de5-b299-f29a81513387",
   "metadata": {},
   "outputs": [
    {
     "ename": "Exception",
     "evalue": "Sorry, no numbers below zero",
     "output_type": "error",
     "traceback": [
      "\u001b[0;31m---------------------------------------------------------------------------\u001b[0m",
      "\u001b[0;31mException\u001b[0m                                 Traceback (most recent call last)",
      "Cell \u001b[0;32mIn[5], line 4\u001b[0m\n\u001b[1;32m      1\u001b[0m x \u001b[38;5;241m=\u001b[39m \u001b[38;5;241m-\u001b[39m\u001b[38;5;241m1\u001b[39m\n\u001b[1;32m      3\u001b[0m \u001b[38;5;28;01mif\u001b[39;00m x \u001b[38;5;241m<\u001b[39m \u001b[38;5;241m0\u001b[39m:\n\u001b[0;32m----> 4\u001b[0m   \u001b[38;5;28;01mraise\u001b[39;00m \u001b[38;5;167;01mException\u001b[39;00m(\u001b[38;5;124m\"\u001b[39m\u001b[38;5;124mSorry, no numbers below zero\u001b[39m\u001b[38;5;124m\"\u001b[39m)\n",
      "\u001b[0;31mException\u001b[0m: Sorry, no numbers below zero"
     ]
    }
   ],
   "source": [
    "x = -1\n",
    "\n",
    "if x < 0:\n",
    "  raise Exception(\"Sorry, no numbers below zero\")"
   ]
  },
  {
   "cell_type": "markdown",
   "id": "583d60da-5f18-404e-a05d-66ada34d6cab",
   "metadata": {},
   "source": [
    "Q5. What are Custom Exceptions in paython? Why do we need Custom Exceptions? Explain with an example."
   ]
  },
  {
   "cell_type": "markdown",
   "id": "8371f89c-96d0-41f6-b4c2-7d6e79ff33e9",
   "metadata": {},
   "source": [
    "Ans:- Custom exceptions are user-defined exceptions that are created by deriving a new class from the built-in Exception class or one of its subclasses. They are used to handle specific errors that are not covered by the built-in exceptions in Python.\n",
    "\n",
    "Custom exceptions are useful in scenarios where we want to raise an exception that is specific to our application domain. For example, let’s say we are building a banking application and we want to raise an exception when a user tries to withdraw more money than their account balance. We can create a custom exception called InsufficientFundsError that is raised when this condition is met. \n",
    "\n",
    "Example are below."
   ]
  },
  {
   "cell_type": "code",
   "execution_count": 1,
   "id": "9017861b-ac48-4a2c-8807-73a6a5f1aade",
   "metadata": {},
   "outputs": [],
   "source": [
    "def withdraw(amount):\n",
    "    balance = 1000\n",
    "    if amount > balance:\n",
    "        raise InsufficientFundsError(\"Insufficient funds in your account.\")\n",
    "    else:\n",
    "        balance -= amount\n",
    "        print(f\"Withdrawal successful. New balance: {balance}\")"
   ]
  },
  {
   "cell_type": "markdown",
   "id": "cb82440d-b323-44d0-a839-edb29d3fa1ff",
   "metadata": {},
   "source": [
    "Q6. Create a custom exception class. Use this class to handle an exception."
   ]
  },
  {
   "cell_type": "code",
   "execution_count": 2,
   "id": "2f91947e-763a-4301-9790-8d3c2beee30a",
   "metadata": {},
   "outputs": [
    {
     "name": "stdin",
     "output_type": "stream",
     "text": [
      "Enter salary amount:  14000\n"
     ]
    }
   ],
   "source": [
    "class SalaryNotInRangeError(Exception):\n",
    "    \"\"\"Exception raised for errors in the input salary.\n",
    "\n",
    "    Attributes:\n",
    "        salary -- input salary which caused the error\n",
    "        message -- explanation of the error\n",
    "    \"\"\"\n",
    "\n",
    "    def __init__(self, salary, message=\"Salary is not in (5000, 15000) range\"):\n",
    "        self.salary = salary\n",
    "        self.message = message\n",
    "        super().__init__(self.message)\n",
    "\n",
    "\n",
    "salary = int(input(\"Enter salary amount: \"))\n",
    "if not 5000 < salary < 15000:\n",
    "    raise SalaryNotInRangeError(salary)"
   ]
  },
  {
   "cell_type": "code",
   "execution_count": null,
   "id": "04c962ea-28e1-4d39-af13-73bf87402a9b",
   "metadata": {},
   "outputs": [],
   "source": []
  }
 ],
 "metadata": {
  "kernelspec": {
   "display_name": "Python 3 (ipykernel)",
   "language": "python",
   "name": "python3"
  },
  "language_info": {
   "codemirror_mode": {
    "name": "ipython",
    "version": 3
   },
   "file_extension": ".py",
   "mimetype": "text/x-python",
   "name": "python",
   "nbconvert_exporter": "python",
   "pygments_lexer": "ipython3",
   "version": "3.10.8"
  }
 },
 "nbformat": 4,
 "nbformat_minor": 5
}
